{
 "cells": [
  {
   "cell_type": "markdown",
   "metadata": {},
   "source": [
    "<h1><center>Experiment 8</center></h1>\n",
    "<h2><center>Implementation of a Simple Banking System using SQLITE and Python</center></h2>"
   ]
  },
  {
   "cell_type": "code",
   "execution_count": 1,
   "metadata": {},
   "outputs": [],
   "source": [
    "import sqlite3\n",
    "import pandas as pd\n",
    "from datetime import date "
   ]
  },
  {
   "cell_type": "code",
   "execution_count": 2,
   "metadata": {},
   "outputs": [],
   "source": [
    "# creating and connecting to that database\n",
    "conn = sqlite3.connect(\"bankApp.db\")"
   ]
  },
  {
   "cell_type": "code",
   "execution_count": 3,
   "metadata": {},
   "outputs": [
    {
     "data": {
      "text/plain": [
       "<sqlite3.Cursor at 0x2dcf028ca40>"
      ]
     },
     "execution_count": 3,
     "metadata": {},
     "output_type": "execute_result"
    }
   ],
   "source": [
    "conn.execute(\"\"\"CREATE TABLE IF NOT EXISTS customer\n",
    "   (\n",
    "       cust_id INTEGER PRIMARY KEY AUTOINCREMENT,\n",
    "       first_name VARCHAR(30),\n",
    "       last_name VARCHAR(30),\n",
    "       mobile_no VARCHAR(10),\n",
    "       dob DATE,\n",
    "       city VARCHAR(15)\n",
    "   )\"\"\")"
   ]
  },
  {
   "cell_type": "code",
   "execution_count": 4,
   "metadata": {},
   "outputs": [
    {
     "data": {
      "text/plain": [
       "<sqlite3.Cursor at 0x2dcf028cb90>"
      ]
     },
     "execution_count": 4,
     "metadata": {},
     "output_type": "execute_result"
    }
   ],
   "source": [
    "conn.execute(\"\"\"CREATE TABLE IF NOT EXISTS account\n",
    "   (\n",
    "      acnumber VARCHAR(6) PRIMARY KEY,\n",
    "      cust_id  VARCHAR(6) REFERENCES customer (cust_id),\n",
    "      balance INT(7) Default 0,\n",
    "      ac_type VARCHAR(10) Default Savings\n",
    "    );\"\"\")"
   ]
  },
  {
   "cell_type": "code",
   "execution_count": 5,
   "metadata": {},
   "outputs": [
    {
     "data": {
      "text/plain": [
       "<sqlite3.Cursor at 0x2dcee186500>"
      ]
     },
     "execution_count": 5,
     "metadata": {},
     "output_type": "execute_result"
    }
   ],
   "source": [
    "conn.execute(\"\"\"CREATE TABLE IF NOT EXISTS trandetails\n",
    "    (   \n",
    "     tnumber INTEGER PRIMARY KEY AUTOINCREMENT,\n",
    "     acnumber VARCHAR(6) REFERENCES account(acnumber),\n",
    "     dot DATE NOT NULL,\n",
    "     transaction_type VARCHAR(20),\n",
    "     transaction_amount INT(7)      \n",
    "    );\"\"\")"
   ]
  },
  {
   "cell_type": "code",
   "execution_count": 6,
   "metadata": {},
   "outputs": [],
   "source": [
    "def enterData_Customer(details):\n",
    "    query=\"Insert into customer(first_name,last_name,mobile_no,dob,city) Values(?,?,?,?,?);\"\n",
    "    conn.execute(query,(details[0],details[1],details[2],details[3],details[4],))\n",
    "    conn.commit()\n",
    "    \n",
    "def enterData_Account(custid):\n",
    "    cust_id = custid\n",
    "    acc_no = custid+10000\n",
    "    query=\"Insert into account(acnumber,cust_id) Values(?,?);\"\n",
    "    conn.execute(query,(acc_no,cust_id))\n",
    "    conn.commit()\n",
    "    print(\"---------------------------------ACCOUNT HAS BEEN CREATED---------------------------------\")\n",
    "    print(f\"Your ACCOUNT NUMBER: {acc_no}\")\n",
    "    print(\"------------------------------------------------------------------------------------------\\n\\n\")\n",
    "    \n",
    "def enterData_Trandetails(ac_num,t_type,amount):\n",
    "    t_date = date.today()  \n",
    "    query=\"insert into trandetails(acnumber,dot,transaction_type,transaction_amount) values (?,?,?,?)\"\n",
    "    conn.execute(query,(ac_num,t_date,t_type,amount))\n",
    "    conn.commit()\n",
    "    \n",
    "def createAccount():\n",
    "    fname = input(\"Enter First Name: \")\n",
    "    lname = input(\"Enter Last Name: \")\n",
    "    phone = input(\"Enter Phone Number: \")\n",
    "    dob = input(\"Enter DOB (YYYY-MM-DD) :\")\n",
    "    city = input(\"Enter City: \")\n",
    "    actype = input(\"Enter A/C type(Savings/Current): \")\n",
    "    detailsList = [fname,lname,phone,dob,city]\n",
    "    enterData_Customer(detailsList)\n",
    "    for row in conn.execute(\"SELECT cust_id FROM customer WHERE first_name = ? and last_name = ? and dob = ?\",[fname,lname,dob]):\n",
    "        custid = row[0]\n",
    "    enterData_Account(custid)\n",
    "\n",
    "def deposit():\n",
    "    ac = input(\"Enter Your A/C NO :\")\n",
    "    amount = int(input(\"Enter amount you want to deposit: \"))\n",
    "    query=\"update account set balance = balance+? where acnumber=?\"\n",
    "    conn.execute(query,(amount,ac))\n",
    "    enterData_Trandetails(ac,\"CR\",amount)\n",
    "    \n",
    "def withdraw():\n",
    "    ac = input(\"Enter Your A/C NO :\")\n",
    "    amount = int(input(\"Enter amount you want to withdraw: \"))\n",
    "    query=\"update account set balance = balance-? where acnumber=?\"\n",
    "    conn.execute(query,(amount,ac))\n",
    "    enterData_Trandetails(ac,\"DR\",amount)\n",
    "    \n",
    "def checkBalance():\n",
    "    ac = input(\"Enter Your A/C NO :\")\n",
    "    for row in conn.execute(\"SELECT balance FROM account WHERE acnumber = ?\",[ac]):\n",
    "        balance = row[0]\n",
    "    print(f\"Bank Balance: {balance}\\n\\n\")\n",
    "\n",
    "def statement():\n",
    "    ac = input(\"Enter Your A/C NO :\")\n",
    "    print(\"\\n---------------------------------Your STATEMENT---------------------------------\\n\")\n",
    "    print(pd.read_sql(\"SELECT * FROM trandetails WHERE acnumber = ? ORDER BY dot desc\",conn,params=[ac]))\n",
    "    print(\"\\n\\n\")"
   ]
  },
  {
   "cell_type": "code",
   "execution_count": 7,
   "metadata": {},
   "outputs": [],
   "source": [
    "def main():\n",
    "    condition = True\n",
    "    while(condition):\n",
    "        print(\"1.Create Account\\n2.Check Balance \\n3.Deposit \\n4.Withdraw \\n5.View Statement \\n6.Exit\\n\")\n",
    "        uin =int(input(\"Enter Option: \"))\n",
    "        if(uin==1):createAccount()\n",
    "            \n",
    "        elif(uin==2):checkBalance()\n",
    "            \n",
    "        elif(uin==3):deposit()\n",
    "            \n",
    "        elif(uin==4):withdraw()\n",
    "            \n",
    "        elif(uin==5):statement()\n",
    "            \n",
    "        else:condition=False"
   ]
  },
  {
   "cell_type": "code",
   "execution_count": null,
   "metadata": {},
   "outputs": [
    {
     "name": "stdout",
     "output_type": "stream",
     "text": [
      "1.Create Account\n",
      "2.Check Balance \n",
      "3.Deposit \n",
      "4.Withdraw \n",
      "5.View Statement \n",
      "6.Exit\n",
      "\n",
      "Enter Option: 1\n",
      "Enter First Name: Ram\n",
      "Enter Last Name: Mehra\n",
      "Enter Phone Number: 9871089204\n",
      "Enter DOB (YYYY-MM-DD) :2000-02-22\n",
      "Enter City: New Delhi\n",
      "Enter A/C type(Savings/Current): Savings\n",
      "---------------------------------ACCOUNT HAS BEEN CREATED---------------------------------\n",
      "Your ACCOUNT NUMBER: 10005\n",
      "------------------------------------------------------------------------------------------\n",
      "\n",
      "\n",
      "1.Create Account\n",
      "2.Check Balance \n",
      "3.Deposit \n",
      "4.Withdraw \n",
      "5.View Statement \n",
      "6.Exit\n",
      "\n",
      "Enter Option: 2\n",
      "Enter Your A/C NO :10005\n",
      "Bank Balance: 0\n",
      "\n",
      "\n",
      "1.Create Account\n",
      "2.Check Balance \n",
      "3.Deposit \n",
      "4.Withdraw \n",
      "5.View Statement \n",
      "6.Exit\n",
      "\n",
      "Enter Option: 3\n",
      "Enter Your A/C NO :10005\n",
      "Enter amount you want to deposit: 5000\n",
      "1.Create Account\n",
      "2.Check Balance \n",
      "3.Deposit \n",
      "4.Withdraw \n",
      "5.View Statement \n",
      "6.Exit\n",
      "\n",
      "Enter Option: 2\n",
      "Enter Your A/C NO :10005\n",
      "Bank Balance: 5000\n",
      "\n",
      "\n",
      "1.Create Account\n",
      "2.Check Balance \n",
      "3.Deposit \n",
      "4.Withdraw \n",
      "5.View Statement \n",
      "6.Exit\n",
      "\n",
      "Enter Option: 4\n",
      "Enter Your A/C NO :10005\n",
      "Enter amount you want to withdraw: 1000\n",
      "1.Create Account\n",
      "2.Check Balance \n",
      "3.Deposit \n",
      "4.Withdraw \n",
      "5.View Statement \n",
      "6.Exit\n",
      "\n",
      "Enter Option: 2\n",
      "Enter Your A/C NO :10005\n",
      "Bank Balance: 4000\n",
      "\n",
      "\n",
      "1.Create Account\n",
      "2.Check Balance \n",
      "3.Deposit \n",
      "4.Withdraw \n",
      "5.View Statement \n",
      "6.Exit\n",
      "\n",
      "Enter Option: 5\n",
      "Enter Your A/C NO :10005\n",
      "\n",
      "---------------------------------Your STATEMENT---------------------------------\n",
      "\n",
      "   tnumber acnumber         dot transaction_type  transaction_amount\n",
      "0       12    10005  2020-11-05               CR                5000\n",
      "1       13    10005  2020-11-05               DR                1000\n",
      "\n",
      "\n",
      "\n",
      "1.Create Account\n",
      "2.Check Balance \n",
      "3.Deposit \n",
      "4.Withdraw \n",
      "5.View Statement \n",
      "6.Exit\n",
      "\n"
     ]
    }
   ],
   "source": [
    "main()"
   ]
  }
 ],
 "metadata": {
  "kernelspec": {
   "display_name": "Python 3",
   "language": "python",
   "name": "python3"
  },
  "language_info": {
   "codemirror_mode": {
    "name": "ipython",
    "version": 3
   },
   "file_extension": ".py",
   "mimetype": "text/x-python",
   "name": "python",
   "nbconvert_exporter": "python",
   "pygments_lexer": "ipython3",
   "version": "3.7.6"
  }
 },
 "nbformat": 4,
 "nbformat_minor": 4
}
